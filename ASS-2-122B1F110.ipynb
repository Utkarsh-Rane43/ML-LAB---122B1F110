{
  "nbformat": 4,
  "nbformat_minor": 0,
  "metadata": {
    "colab": {
      "provenance": []
    },
    "kernelspec": {
      "name": "python3",
      "display_name": "Python 3"
    },
    "language_info": {
      "name": "python"
    }
  },
  "cells": [
    {
      "cell_type": "code",
      "execution_count": 1,
      "metadata": {
        "colab": {
          "base_uri": "https://localhost:8080/"
        },
        "id": "vIZgcNewHo05",
        "outputId": "7278e772-bf23-4baa-f148-413ac2dba391"
      },
      "outputs": [
        {
          "output_type": "stream",
          "name": "stdout",
          "text": [
            "   Unnamed: 0       car_name    brand     model  vehicle_age  km_driven  \\\n",
            "0           0    Maruti Alto   Maruti      Alto            9     120000   \n",
            "1           1  Hyundai Grand  Hyundai     Grand            5      20000   \n",
            "2           2    Hyundai i20  Hyundai       i20           11      60000   \n",
            "3           3    Maruti Alto   Maruti      Alto            9      37000   \n",
            "4           4  Ford Ecosport     Ford  Ecosport            6      30000   \n",
            "\n",
            "  seller_type fuel_type transmission_type  mileage  engine  max_power  seats  \\\n",
            "0  Individual    Petrol            Manual    19.70     796      46.30      5   \n",
            "1  Individual    Petrol            Manual    18.90    1197      82.00      5   \n",
            "2  Individual    Petrol            Manual    17.00    1197      80.00      5   \n",
            "3  Individual    Petrol            Manual    20.92     998      67.10      5   \n",
            "4      Dealer    Diesel            Manual    22.77    1498      98.59      5   \n",
            "\n",
            "   selling_price  \n",
            "0         120000  \n",
            "1         550000  \n",
            "2         215000  \n",
            "3         226000  \n",
            "4         570000  \n",
            "<class 'pandas.core.frame.DataFrame'>\n",
            "RangeIndex: 15411 entries, 0 to 15410\n",
            "Data columns (total 14 columns):\n",
            " #   Column             Non-Null Count  Dtype  \n",
            "---  ------             --------------  -----  \n",
            " 0   Unnamed: 0         15411 non-null  int64  \n",
            " 1   car_name           15411 non-null  object \n",
            " 2   brand              15411 non-null  object \n",
            " 3   model              15411 non-null  object \n",
            " 4   vehicle_age        15411 non-null  int64  \n",
            " 5   km_driven          15411 non-null  int64  \n",
            " 6   seller_type        15411 non-null  object \n",
            " 7   fuel_type          15411 non-null  object \n",
            " 8   transmission_type  15411 non-null  object \n",
            " 9   mileage            15411 non-null  float64\n",
            " 10  engine             15411 non-null  int64  \n",
            " 11  max_power          15411 non-null  float64\n",
            " 12  seats              15411 non-null  int64  \n",
            " 13  selling_price      15411 non-null  int64  \n",
            "dtypes: float64(2), int64(6), object(6)\n",
            "memory usage: 1.6+ MB\n",
            "None\n",
            "Mean Squared Error: 255630307593.81403\n",
            "R^2 Score: 0.6604191137119224\n"
          ]
        }
      ],
      "source": [
        "# Importing necessary libraries\n",
        "import pandas as pd\n",
        "from sklearn.model_selection import train_test_split\n",
        "from sklearn.linear_model import LinearRegression\n",
        "from sklearn.metrics import mean_squared_error, r2_score\n",
        "\n",
        "# Loading the dataset\n",
        "file_path = 'cardekho_dataset.csv'\n",
        "df = pd.read_csv(file_path)\n",
        "\n",
        "# Displaying the head of the dataframe to understand its structure\n",
        "print(df.head())\n",
        "\n",
        "# Checking the data types and null values\n",
        "print(df.info())\n",
        "\n",
        "# Selecting relevant features and target variable\n",
        "# Assuming 'selling_price' is the target variable and others are features\n",
        "features = df[['vehicle_age', 'km_driven', 'mileage', 'engine', 'max_power', 'seats']]\n",
        "target = df['selling_price']\n",
        "\n",
        "# Splitting the dataset into training and testing sets\n",
        "X_train, X_test, y_train, y_test = train_test_split(features, target, test_size=0.2, random_state=42)\n",
        "\n",
        "# Creating and training the Linear Regression model\n",
        "model = LinearRegression()\n",
        "model.fit(X_train, y_train)\n",
        "\n",
        "# Making predictions on the test set\n",
        "y_pred = model.predict(X_test)\n",
        "\n",
        "# Evaluating the model\n",
        "mse = mean_squared_error(y_test, y_pred)\n",
        "r2 = r2_score(y_test, y_pred)\n",
        "\n",
        "print('Mean Squared Error:', mse)\n",
        "print('R^2 Score:', r2)"
      ]
    },
    {
      "cell_type": "code",
      "source": [
        "# Testing the model with some sample inputs\n",
        "# Sample inputs: [vehicle_age, km_driven, mileage, engine, max_power, seats]\n",
        "sample_inputs = [[5, 30000, 18.5, 1197, 82.0, 5],  # Example 1\n",
        "                 [3, 15000, 20.0, 998, 67.1, 5],  # Example 2\n",
        "                 [10, 80000, 15.0, 1498, 98.59, 5]]  # Example 3\n",
        "\n",
        "# Making predictions\n",
        "predictions = model.predict(sample_inputs)\n",
        "\n",
        "# Displaying the predictions\n",
        "predictions"
      ],
      "metadata": {
        "colab": {
          "base_uri": "https://localhost:8080/"
        },
        "id": "NmPAzV4nHvQd",
        "outputId": "a9b3be1f-198b-402a-daba-085b3f14d1a8"
      },
      "execution_count": 2,
      "outputs": [
        {
          "output_type": "stream",
          "name": "stderr",
          "text": [
            "/usr/local/lib/python3.11/dist-packages/sklearn/utils/validation.py:2739: UserWarning: X does not have valid feature names, but LinearRegression was fitted with feature names\n",
            "  warnings.warn(\n"
          ]
        },
        {
          "output_type": "execute_result",
          "data": {
            "text/plain": [
              "array([530665.6224091 , 443046.76726517, 397298.99688472])"
            ]
          },
          "metadata": {},
          "execution_count": 2
        }
      ]
    },
    {
      "cell_type": "code",
      "source": [],
      "metadata": {
        "id": "byCtDMg7HzMb"
      },
      "execution_count": null,
      "outputs": []
    }
  ]
}