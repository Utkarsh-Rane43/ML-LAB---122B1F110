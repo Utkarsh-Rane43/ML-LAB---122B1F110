{
  "nbformat": 4,
  "nbformat_minor": 0,
  "metadata": {
    "colab": {
      "provenance": []
    },
    "kernelspec": {
      "name": "python3",
      "display_name": "Python 3"
    },
    "language_info": {
      "name": "python"
    }
  },
  "cells": [
    {
      "cell_type": "code",
      "source": [
        "# Importing necessary libraries for Decision Tree Classifier\n",
        "from sklearn.model_selection import train_test_split\n",
        "from sklearn.tree import DecisionTreeClassifier\n",
        "from sklearn.metrics import classification_report, confusion_matrix\n",
        "\n",
        "# Selecting features and target variable\n",
        "X = df[['vehicle_age', 'km_driven', 'mileage', 'engine', 'max_power', 'seats']]\n",
        "Y = df['Cluster']  # Using the cluster labels as the target variable\n",
        "\n",
        "# Splitting the dataset into training and testing sets\n",
        "X_train, X_test, Y_train, Y_test = train_test_split(X, Y, test_size=0.2, random_state=42)\n",
        "\n",
        "# Creating and training the Decision Tree Classifier\n",
        "clf = DecisionTreeClassifier(random_state=42)\n",
        "clf.fit(X_train, Y_train)\n",
        "\n",
        "# Making predictions on the test set\n",
        "Y_pred = clf.predict(X_test)\n",
        "\n",
        "# Generating the classification report and confusion matrix\n",
        "report = classification_report(Y_test, Y_pred)\n",
        "conf_matrix = confusion_matrix(Y_test, Y_pred)\n",
        "\n",
        "# Displaying the results\n",
        "print('Classification Report:\\\n",
        "', report)\n",
        "print('Confusion Matrix:\\\n",
        "', conf_matrix)\n",
        "\n",
        "print('done')"
      ],
      "metadata": {
        "colab": {
          "base_uri": "https://localhost:8080/"
        },
        "id": "YiM6zgX0I_jQ",
        "outputId": "9e0fd07b-74b3-4879-e9a5-8e265625136f"
      },
      "execution_count": 4,
      "outputs": [
        {
          "output_type": "stream",
          "name": "stdout",
          "text": [
            "Classification Report:               precision    recall  f1-score   support\n",
            "\n",
            "           0       0.99      0.99      0.99      1596\n",
            "           1       0.99      1.00      0.99       647\n",
            "           2       0.99      0.97      0.98       840\n",
            "\n",
            "    accuracy                           0.99      3083\n",
            "   macro avg       0.99      0.99      0.99      3083\n",
            "weighted avg       0.99      0.99      0.99      3083\n",
            "\n",
            "Confusion Matrix: [[1588    3    5]\n",
            " [   0  645    2]\n",
            " [  18    6  816]]\n",
            "done\n"
          ]
        }
      ]
    },
    {
      "cell_type": "code",
      "source": [],
      "metadata": {
        "id": "1wrHAX0vJpu1"
      },
      "execution_count": null,
      "outputs": []
    }
  ]
}